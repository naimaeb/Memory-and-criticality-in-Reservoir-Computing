{
 "cells": [
  {
   "cell_type": "markdown",
   "id": "4986838a",
   "metadata": {},
   "source": [
    "# Data analysis of the results from the regular graph network\n",
    "\n",
    "This notebook generates the plots and analyses the results from the direct memory and 3-bit parity tasks performed on the regular graph network defined in \"Reservoir network training\" notebook."
   ]
  },
  {
   "cell_type": "code",
   "execution_count": null,
   "id": "0b71b719",
   "metadata": {},
   "outputs": [],
   "source": [
    "#import packages\n",
    "\n",
    "import sklearn as skl\n",
    "import matplotlib.pyplot as plt\n",
    "import numpy as np\n",
    "import sys\n",
    "from scipy import stats\n",
    "from scipy.sparse import csr_matrix\n",
    "import warnings\n",
    "warnings.filterwarnings('ignore')\n",
    "\n",
    "from scipy.io import loadmat\n",
    "\n",
    "import math\n",
    "import random"
   ]
  },
  {
   "cell_type": "markdown",
   "id": "7d1e1d55",
   "metadata": {},
   "source": [
    "# 1. Define the parameters and helper functions\n",
    "\n",
    "Choose the parameters of the given simulation you want to study and define functions for plotting the results and quantifying their significance. The results of the simulations are generated in the \"Reservoir network training\" notebook."
   ]
  },
  {
   "cell_type": "markdown",
   "id": "a09374a9",
   "metadata": {},
   "source": [
    "### 1.1 Define the parameters"
   ]
  },
  {
   "cell_type": "code",
   "execution_count": null,
   "id": "0aa065b8",
   "metadata": {},
   "outputs": [],
   "source": [
    "#parameters to look into (choose from the previously run simulations)\n",
    "\n",
    "K = 8\n",
    "n_spins = 300\n",
    "n_tau = 9\n",
    "tau = np.arange(n_tau)+1\n",
    "var_e = 5\n",
    "sigma_e_critical = np.array([np.sqrt(var_e)])\n",
    "perturbations = 10\n",
    "it = 50"
   ]
  },
  {
   "cell_type": "markdown",
   "id": "bc4b337a",
   "metadata": {},
   "source": [
    "### 1.2 Helper funciton to plot the simulation results"
   ]
  },
  {
   "cell_type": "code",
   "execution_count": null,
   "id": "fe4624fe",
   "metadata": {},
   "outputs": [],
   "source": [
    "import matplotlib.colors as mcolors\n",
    "\n",
    "def plot_results(X, tau, var_w, var_w_critical, data_type, tau1, tau2, var_idx):\n",
    "\n",
    "    X_mean = np.mean(X, axis = 2)\n",
    "    X_ste = np.std(X, axis = 2)*(1/np.sqrt(X.shape[2])) #standard error calculation (standard deviation/sqrt(N))\n",
    "    plt.figure(figsize=(10,8))\n",
    "    for i,c in zip(var_idx, mcolors.TABLEAU_COLORS):\n",
    "        plt.plot(tau[tau1:tau2], X_mean.T[tau1:tau2, i], c=c)\n",
    "        plt.errorbar(tau[tau1:tau2],X_mean[i,tau1:tau2], yerr = X_ste[i,tau1:tau2], \n",
    "                     label = \"var_w {}\".format(np.round(var_w[i],3)))\n",
    "    \n",
    "    plt.xlabel(\"tau\", fontsize = 15)\n",
    "    \n",
    "    if data_type == \"MI\":\n",
    "        plt.ylabel(\"MI\", fontsize = 15)\n",
    "        plt.title(\"Mutual Information for varying distances from the critical line: var_w = \"\n",
    "                  +str(np.round(var_w_critical,3)), fontsize = 15)\n",
    "        \n",
    "    if data_type == \"acc\":\n",
    "        plt.ylabel(\"Accuracy\", fontsize = 15)\n",
    "        plt.title(\"Mean accuracy for varying distances from the critical line: var_w = \"\n",
    "                  +str(np.round(var_w_critical,3)), fontsize = 15)\n",
    "    plt.legend(bbox_to_anchor=(0.7, 1), loc='upper left', prop = {'size' : 15})"
   ]
  },
  {
   "cell_type": "markdown",
   "id": "2e93ed59",
   "metadata": {},
   "source": [
    "### 1.3 Helper funcitons to quantify the statistical significance of the results"
   ]
  },
  {
   "cell_type": "code",
   "execution_count": null,
   "id": "d3f8362c",
   "metadata": {},
   "outputs": [],
   "source": [
    "from scipy import stats\n",
    "import pandas as pd\n",
    "\n",
    "\n",
    "def p_value_matrix(X, idx_var):\n",
    "    '''\n",
    "    Computes the p-value for a certain mean (given tau and var_w) to be larger than the value at criticality.\n",
    "    Parameters:\n",
    "    X (np.3darray): numpy array containing the given score (MI or accuracy) in (n_var, n_tau, n_samples):\n",
    "    idx_var (int): index for the variance in X where the network is at criticality\n",
    "    '''\n",
    "    n_var, n_tau, n_samples = X.shape\n",
    "    X_pval = np.zeros((n_var, n_tau))\n",
    "    \n",
    "    rvs_crt = X[idx_var,:,:] #score at network criticality for values of tau and n_samples\n",
    "    \n",
    "    for i in range(n_var):\n",
    "        rvs = X[i,:,:]\n",
    "        \n",
    "        #perform t-test, note that you want it to be 1-tailed (check whether score is greater) and\n",
    "        #do not assume equal variance\n",
    "        p_vals = stats.ttest_ind(rvs, rvs_crt, axis = 1, equal_var=False, alternative = \"greater\")[1]\n",
    "        \n",
    "        X_pval[i,:] = np.round(p_vals, 4)\n",
    "\n",
    "    return X_pval\n",
    "\n",
    "def highlighter(cell_value):\n",
    "    if cell_value < 0.05:\n",
    "        return \"background-color: yellow\"\n",
    "    \n",
    "def p_val_dataframe(X, data_type, task_type, var_w_array = var_w_perturbed, var_w_crit= var_w_critical,  \n",
    "                    K = K, n_spins = n_spins, var_e = var_e):\n",
    "    \n",
    "    '''\n",
    "    Generates a dataframe of p-values representing whether the MI or eman accuracy are higher than that at the critical\n",
    "    line for a range of var_w and tau values. \n",
    "    Parameters:\n",
    "    X (np.3darray): numpy array containing the given score (MI or accuracy) in (n_var, n_tau, n_samples):\n",
    "    data_type (str): can either be MI or mean accuracy\n",
    "    task_type(str): can either be xor task or direct memory task\n",
    "    var_w_perturbed(np.array): array with different var_w values\n",
    "    var_w_crit(np.array): array with one value (flaot) denoting the critical value of var_w\n",
    "    K (int): connectivity of the network\n",
    "    n_spins (int): number of neurons in the network\n",
    "    var_e (float): variance of the encoder\n",
    "    '''\n",
    "    \n",
    "    #find the index of the critical var_w\n",
    "    idx_var_crit =np.where(np.isclose(var_w_array,var_w_crit))[0][0]\n",
    "    \n",
    "    #generate the matrix of p-values, either for MI or accuracy score\n",
    "    p_val_mat = p_value_matrix(X, idx_var_crit)\n",
    "    \n",
    "    #define the rows of the dataframe as the values of var_w\n",
    "    rows = np.round(var_w_array.reshape(perturbations,),3).astype(str)\n",
    "    \n",
    "    #generate the dataframe\n",
    "    df = pd.DataFrame(p_val_mat, index = rows.astype(str), columns = tau)\n",
    "    df = df.rename_axis(\"tau\", axis=\"columns\")\n",
    "    df = df.rename_axis(\"var_w\", axis = \"index\")\n",
    "    \n",
    "    # properties of dataframe, applied when not exported to latex\n",
    "    cell_hover = {\n",
    "    \"selector\": \"td:hover\",\n",
    "    \"props\": [(\"background-color\", \"red\")]\n",
    "    }\n",
    "    index_names = {\n",
    "        \"selector\": \".index_name\",\n",
    "        \"props\": \"font-style: italic; color: darkgrey; font-weight:normal;\"\n",
    "    }\n",
    "    headers = {\n",
    "        \"selector\": \"th:not(.index_name)\",\n",
    "        \"props\": \"background-color: red; color: #f0e;\"\n",
    "    }\n",
    "\n",
    "    properties = {\"border\": \"1px solid black\", \"width\": \"65px\", \"text-align\": \"center\"}\n",
    "    \n",
    "    #export to latex\n",
    "    df_latex = df.style.applymap(highlighter)\\\n",
    "      .set_properties(**properties).format(precision = 3).to_latex(\n",
    "    caption=\"p-value for \" +str(data_type)+ \" difference on the \" +str(task_type)+\" task with $\\sigma_e^2$ = \" +str(var_e)+\", K = \" +str(K)+\" and \" +str(n_spins)+ \" neurons.\\\n",
    "    Marked in yellow are the respective values of $\\sigma_w^2$ and $\\tau$ that are significantly greater than \\\n",
    "    the \"+str(data_type)+ \" at criticality at the $\\alpha = 0.05$ confidence level. The critical value for $\\sigma_w^2$ is highlighted\\\n",
    "    in red.\",\n",
    "    position = \"!h\",\n",
    "    clines=\"all;index\",\n",
    "    convert_css=True,\n",
    "    position_float=\"centering\",\n",
    "    multicol_align=\"|c|\",\n",
    "    hrules=True)\n",
    "\n",
    "    \n",
    "    return df_latex\n"
   ]
  },
  {
   "cell_type": "markdown",
   "id": "e811b01e",
   "metadata": {},
   "source": [
    "# 2. Results for direct memory task\n",
    "\n",
    "Plot the results for MI and accuracy on the direct memory for a range of network parameters as a function of delay time. Quantify the statistical significance results at a 95% Confidence interval. In particular, this code looks at whether MI was statisticlaly significantly higher than the value at criticality."
   ]
  },
  {
   "cell_type": "code",
   "execution_count": null,
   "id": "015df3bf",
   "metadata": {},
   "outputs": [],
   "source": [
    "#path where the data is stored\n",
    "path = \"/home/elosegui/MSc_thesis_project/numpy_results/direct_memory_task/\"\n",
    "\n",
    "#load data\n",
    "mean_accuracy = np.load(path+\"accuracy_\"+\"K\" +str(K)+\"_iterations\"+str(it)+\"_N\"+str(n_spins)+\"_var_e\"+str(var_e)+\".npy\")\n",
    "MI_score = np.load(path+\"MI_\"+\"K\" +str(K)+\"_iterations\"+str(it)+\"_N\"+str(n_spins)+\"_var_e\"+str(var_e)+\".npy\")\n",
    "var_w_perturbed = np.load(path+\"var_w_perturbed_\"+\"K\" +str(K)+\"_iterations\"+str(it)+\"_N\"+str(n_spins)+\"_var_e\"+str(var_e)+\".npy\")\n",
    "var_w_critical = np.load(path+\"var_w_critical_\"+\"K\" +str(K)+\"_iterations\"+str(it)+\"_N\"+str(n_spins)+\"_var_e\"+str(var_e)+\".npy\")\n",
    "\n",
    "\n",
    "\n"
   ]
  },
  {
   "cell_type": "markdown",
   "id": "8f84c4d9",
   "metadata": {},
   "source": [
    "### 2.1 Plot the results for Mutial Information and Accuracy"
   ]
  },
  {
   "cell_type": "code",
   "execution_count": null,
   "id": "ef6473f5",
   "metadata": {
    "scrolled": true
   },
   "outputs": [],
   "source": [
    "#subset of MI results\n",
    "\n",
    "path_plots = \"/home/elosegui/MSc_thesis_project/numpy_results/direct_memory_task/plots/\"\n",
    "\n",
    "X = MI_score\n",
    "data_type = \"MI\"\n",
    "tau1 = 3\n",
    "tau2 = 8\n",
    "\n",
    "var1_idx = 4\n",
    "var2_idx = 9\n",
    "var_idx = [3,8,9]\n",
    "\n",
    "plot_results(X, tau, var_w_perturbed.reshape(perturbations,), var_w_critical, \n",
    "             data_type, tau1, tau2, var_idx)\n",
    "\n",
    "plt.savefig(path_plots+data_type+\"K\" +str(K)+\"_iterations\"+str(it)+\"_N\"+str(n_spins)+\"_var_e\"+str(var_e)+\"zoom\")\n",
    "\n"
   ]
  },
  {
   "cell_type": "code",
   "execution_count": null,
   "id": "e6ba2ad6",
   "metadata": {},
   "outputs": [],
   "source": [
    "#subset of accuracy results\n",
    "\n",
    "X = mean_accuracy\n",
    "data_type = \"acc\"\n",
    "tau1 = 3\n",
    "tau2 = 7\n",
    "var_idx = [4,8,9]\n",
    "\n",
    "plot_results(X, tau, var_w_perturbed.reshape(perturbations,), var_w_critical[0], \n",
    "             data_type, tau1, tau2, var_idx)\n",
    "\n",
    "plt.savefig(path_plots+data_type+\"K\" +str(K)+\"_iterations\"+str(it)+\"_N\"+str(n_spins)+\"_var_e\"+str(var_e)+\"zoom\")"
   ]
  },
  {
   "cell_type": "code",
   "execution_count": null,
   "id": "fe071404",
   "metadata": {},
   "outputs": [],
   "source": [
    "#all MI results\n",
    "\n",
    "tau1 = 0\n",
    "tau2 = 10\n",
    "var_idx = np.arange(10)\n",
    "\n",
    "plot_results(X, tau, var_w_perturbed.reshape(perturbations,), var_w_critical[0], \n",
    "             data_type, tau1, tau2, var_idx)\n",
    "\n",
    "plt.savefig(path_plots+data_type+\"K\" +str(K)+\"_iterations\"+str(it)+\"_N\"+str(n_spins)+\"_var_e\"+str(var_e))"
   ]
  },
  {
   "cell_type": "code",
   "execution_count": null,
   "id": "34b05bc1",
   "metadata": {},
   "outputs": [],
   "source": [
    "#print significance test table in latex format for MI\n",
    "\n",
    "print(p_val_dataframe(MI_score, \"MI\", \"direct memory\", var_w_array = var_w_perturbed, var_w_crit= var_w_critical,  \n",
    "                    K = K, n_spins = n_spins, var_e = var_e))\n"
   ]
  },
  {
   "cell_type": "code",
   "execution_count": null,
   "id": "a93e5bc9",
   "metadata": {},
   "outputs": [],
   "source": [
    "#print significance test table in latex format for accuracy\n",
    "\n",
    "print(p_val_dataframe(mean_accuracy, \"mean accuracy\", \"direct memory\", var_w_array = var_w_perturbed, var_w_crit= var_w_critical,  \n",
    "                    K = K, n_spins = n_spins, var_e = var_e))\n",
    "\n",
    "\n",
    "\n"
   ]
  },
  {
   "cell_type": "markdown",
   "id": "e4ee4283",
   "metadata": {},
   "source": [
    "# Results for 3-bit parity task\n",
    "\n",
    "Plot the results for MI and accuracy on the 3-bit parity task for a range of network parameters as a function of delay time. Quantify the statistical significance results at a 95% Confidence interval. In particular, this code looks at whether MI was statisticlaly significantly higher than the value at criticality."
   ]
  },
  {
   "cell_type": "code",
   "execution_count": null,
   "id": "506c1f95",
   "metadata": {},
   "outputs": [],
   "source": [
    "#path where the data is stored\n",
    "path = \"/home/elosegui/MSc_thesis_project/numpy_results/3bit_parity/\"\n",
    "\n",
    "#load data\n",
    "mean_accuracy = np.load(path+\"accuracy_\"+\"K\" +str(K)+\"_iterations\"+str(it)+\"_N\"+str(n_spins)+\"_var_e\"+str(var_e)+\".npy\")\n",
    "MI_score = np.load(path+\"MI_\"+\"K\" +str(K)+\"_iterations\"+str(it)+\"_N\"+str(n_spins)+\"_var_e\"+str(var_e)+\".npy\")\n",
    "var_w_perturbed = np.load(path+\"var_w_perturbed_\"+\"K\" +str(K)+\"_iterations\"+str(it)+\"_N\"+str(n_spins)+\"_var_e\"+str(var_e)+\".npy\")\n",
    "var_w_critical = np.load(path+\"var_w_critical_\"+\"K\" +str(K)+\"_iterations\"+str(it)+\"_N\"+str(n_spins)+\"_var_e\"+str(var_e)+\".npy\")"
   ]
  },
  {
   "cell_type": "code",
   "execution_count": null,
   "id": "432b7432",
   "metadata": {},
   "outputs": [],
   "source": [
    "#plot a subset of MI results\n",
    "\n",
    "path_plots = \"/home/elosegui/MSc_thesis_project/numpy_results/3bit_parity/plots/\"\n",
    "\n",
    "X = MI_score\n",
    "data_type = \"MI\"\n",
    "tau1 = 0\n",
    "tau2 = 4\n",
    "var1_idx = 4\n",
    "var2_idx = 9\n",
    "\n",
    "var_idx = [4,7,9]\n",
    "\n",
    "\n",
    "plot_results(X, tau, var_w_perturbed.reshape(perturbations,), var_w_critical, \n",
    "             data_type, tau1, tau2, var_idx)\n",
    "\n",
    "plt.savefig(path_plots+data_type+\"K\" +str(K)+\"_iterations\"+str(it)+\"_N\"+str(n_spins)+\"_var_e\"+str(var_e)+\"zoom\")"
   ]
  },
  {
   "cell_type": "code",
   "execution_count": null,
   "id": "4a8bdf16",
   "metadata": {},
   "outputs": [],
   "source": [
    "#plot all MI results\n",
    "\n",
    "tau1 = 0\n",
    "tau2 = 10\n",
    "var_idx = np.arange(10)\n",
    "\n",
    "plot_results(X, tau, var_w_perturbed.reshape(perturbations,), var_w_critical, data_type, tau1, \n",
    "             tau2, var_idx)\n",
    "\n",
    "plt.savefig(path_plots+data_type+\"K\" +str(K)+\"_iterations\"+str(it)+\"_N\"+str(n_spins)+\"_var_e\"+str(var_e))"
   ]
  },
  {
   "cell_type": "code",
   "execution_count": null,
   "id": "d0695f57",
   "metadata": {},
   "outputs": [],
   "source": [
    "#plot a subset of accuracy results\n",
    "\n",
    "X = mean_accuracy\n",
    "data_type = \"acc\"\n",
    "tau1 = 0\n",
    "tau2 = 4\n",
    "var_idx = [4,7,9]\n",
    "\n",
    "\n",
    "plot_results(X, tau, var_w_perturbed.reshape(perturbations,), var_w_critical, \n",
    "             data_type, tau1, tau2, var_idx)\n",
    "\n",
    "plt.savefig(path_plots+data_type+\"K\" +str(K)+\"_iterations\"+str(it)+\"_N\"+str(n_spins)+\"_var_e\"+str(var_e)+\"zoom\")"
   ]
  },
  {
   "cell_type": "code",
   "execution_count": null,
   "id": "60b7d954",
   "metadata": {},
   "outputs": [],
   "source": [
    "#plot all accuracy results\n",
    "\n",
    "tau1 = 0\n",
    "tau2 = 10\n",
    "var_idx = np.arange(10)\n",
    "\n",
    "plot_results(X, tau, var_w_perturbed.reshape(perturbations,), var_w_critical, data_type, tau1, \n",
    "             tau2, var_idx)\n",
    "\n",
    "plt.savefig(path_plots+data_type+\"K\" +str(K)+\"_iterations\"+str(it)+\"_N\"+str(n_spins)+\"_var_e\"+str(var_e))"
   ]
  },
  {
   "cell_type": "code",
   "execution_count": null,
   "id": "c42a8aca",
   "metadata": {},
   "outputs": [],
   "source": [
    "#print the table of the significance of MI results in latex format\n",
    "\n",
    "print(p_val_dataframe(MI_score, \"MI\", \"3-bit parity\", var_w_array = var_w_perturbed, var_w_crit= var_w_critical,  \n",
    "                    K = K, n_spins = n_spins, var_e = var_e))"
   ]
  },
  {
   "cell_type": "code",
   "execution_count": null,
   "id": "45db63ee",
   "metadata": {},
   "outputs": [],
   "source": [
    "#print the table of the significance of accuracy results in latex format\n",
    "\n",
    "print(p_val_dataframe(mean_accuracy, \"mean accuracy\", \"3-bit parity\", var_w_array = var_w_perturbed, var_w_crit= var_w_critical,  \n",
    "                    K = K, n_spins = n_spins, var_e = var_e))"
   ]
  },
  {
   "cell_type": "markdown",
   "id": "5b26df87",
   "metadata": {},
   "source": [
    "# 3. Paff and Naff\n",
    "\n",
    "Claculate the theoretical probability of the input affecting a neuron (Paff) and the expected number of neurons affected by the input (Naff) as a function of the delay time, for a range of network parameters (sub-critical, critical and super-critical)."
   ]
  },
  {
   "cell_type": "markdown",
   "id": "299e6332",
   "metadata": {},
   "source": [
    "### 3.1 Helper funcitons for calculating theoretical values of Paff and Naff "
   ]
  },
  {
   "cell_type": "code",
   "execution_count": null,
   "id": "2a44d33e",
   "metadata": {},
   "outputs": [],
   "source": [
    "#Look at the evolution of Paff in time\n",
    "\n",
    "from scipy.stats import binom\n",
    "\n",
    "def Paff_tau(var_w, var_e, K, s_spins, dec, t):\n",
    "    '''\n",
    "    Probability of a spin being affected by the input at least 1 time step ago, a and b need not be different sings\n",
    "    Parameters:\n",
    "    var_w (float): variance of the weights\n",
    "    var_e(flaot): encoder variance\n",
    "    n_spins(int): total number of available spins\n",
    "    s_spins (int): number of spins affected by the input in the previous time step\n",
    "    '''\n",
    "    var_b = s_spins*var_w #+ (dec**t)*var_e\n",
    "    var_a = (K-s_spins)*var_w+var_e\n",
    "    Paff = 2*np.arctan(np.sqrt(var_b/var_a))/(np.pi)\n",
    "    \n",
    "    return Paff\n",
    "\n",
    "def Paff_tau2(var_w, var_e, K, p):\n",
    "    var_b = p*var_w\n",
    "    var_a = (1-p)*var_w+(var_e/K)\n",
    "    Paff = 2*np.arctan(np.sqrt(var_b/var_a))/(np.pi)\n",
    "    \n",
    "    return Paff\n",
    "\n",
    "def Paff_tau_binom(var_w, var_e, K, p, dec, t):\n",
    "    '''\n",
    "    Probability of a spin being affected by the input at least 1 time step ago, a and b need not be different sings\n",
    "    Parameters:\n",
    "    var_w (float): variance of the weights\n",
    "    var_e(flaot): encoder variance\n",
    "    n_spins(int): total number of available spins\n",
    "    p (float): probability at the previous time step\n",
    "    '''\n",
    "    \n",
    "    Paff = 0\n",
    "        \n",
    "    for i in range(K):\n",
    "        pk = binom.pmf(i, K, p)\n",
    "        Paff = Paff+ pk*Paff_tau(var_w, var_e, K, i, dec, t)\n",
    "    return Paff\n",
    "    \n",
    "\n",
    "def Paff_evolution_binom(tau, var_w, var_e, K, N):\n",
    "    '''\n",
    "    Compute Paff and affected number of spins tau time steps ago\n",
    "    '''\n",
    "    \n",
    "    Paff_array = np.zeros(tau) #Initialize the array of probaiblity of being affected\n",
    "    s_array_mean = np.zeros(tau) #Expected number of affected spins (out of N)\n",
    "    s_array_var = np.zeros(tau) #Variance of number of affected spins (out of N)\n",
    "    n_affected = np.zeros(tau)\n",
    "    \n",
    "    #initialize probability of being affected\n",
    "    var_b_0 = var_e\n",
    "    var_a_0 = K*var_w\n",
    "    Paff_0 = 2*np.arctan(np.sqrt(var_b_0/var_a_0))/(np.pi)\n",
    "   \n",
    "    #initialize all values at tau = 0\n",
    "    Paff_array[0] = Paff_0\n",
    "    s_array_mean[0] = N*Paff_0\n",
    "    s_array_var[0] = N*Paff_0*(1-Paff_0)\n",
    "    n_affected[0] = N*Paff_0\n",
    "    \n",
    "    for i in range(1,tau):\n",
    "        Paff_array[i] = Paff_tau_binom(var_w, var_e, int(K), Paff_array[i-1], 0.3, i)\n",
    "        s_array_mean[i] = Paff_array[i]*s_array_mean[i-1]\n",
    "        s_array_var[i] = s_array_mean[i-1]*(1-Paff_array[i])*Paff_array[i]\n",
    "        n_affected[i] = N* Paff_array[i-1]\n",
    "        \n",
    "    \n",
    "    return Paff_array, s_array_mean, s_array_var, n_affected\n",
    "        "
   ]
  },
  {
   "cell_type": "markdown",
   "id": "3ece4633",
   "metadata": {},
   "source": [
    "### 3.2 Helper funcitons for plotting the values of Paff and Naff"
   ]
  },
  {
   "cell_type": "code",
   "execution_count": null,
   "id": "c8df048d",
   "metadata": {},
   "outputs": [],
   "source": [
    "def plot_paff_analytical(tau, var_w, var_e, K, N, var1_idx, var2_idx, var_w_critical):\n",
    "    \n",
    "    for i in range(var1_idx,var2_idx):\n",
    "        Paff_array, s_array_mean, s_array_var, n_affected = Paff_evolution_binom(tau, var_w[i], var_e, K, N)\n",
    "        plt.plot(np.arange(tau), Paff_array, label = \"var_w =  {}\".format(np.round(var_w[i],3)))\n",
    "        #plt.errorbar(tau[tau1:tau2],X_mean[i,tau1:tau2], yerr = X_ste[i,tau1:tau2], label = \"var_w {}\".format(np.round(var_w[i],3)))\n",
    "    plt.title(\"Paff for varying distances from the critical line: var_w = \"                  \n",
    "              +str(np.round(var_w_critical,3))+\", K = \"+str(K))\n",
    "    plt.xlabel(\"tau\")\n",
    "    plt.legend(bbox_to_anchor=(0.65, 1), loc='upper left')\n",
    "\n",
    "def plot_paff_analytical_naff(tau, var_w, var_e, K, N, var1_idx, var2_idx, var_w_critical):\n",
    "    \n",
    "    for i in range(var1_idx,var2_idx):\n",
    "        Paff_array, s_array_mean, s_array_var, n_affected = Paff_evolution_binom(tau, var_w[i], var_e, K, N)\n",
    "        plt.plot(np.arange(tau)[1:],n_affected[1:], label = \"var_w {}\".format(np.round(var_w[i],3)))\n",
    "        #plt.errorbar(tau[tau1:tau2],X_mean[i,tau1:tau2], yerr = X_ste[i,tau1:tau2], label = \"var_w {}\".format(np.round(var_w[i],3)))\n",
    "    plt.title(\"Naff for varying distances from the critical line: var_w = \"                  \n",
    "              +str(np.round(var_w_critical,3)))\n",
    "    plt.xlabel(\"tau\")\n",
    "    plt.legend(bbox_to_anchor=(0.67, 1), loc='upper left')\n",
    "\n"
   ]
  },
  {
   "cell_type": "markdown",
   "id": "195bf361",
   "metadata": {},
   "source": [
    "### 3.3 Plots for the Paff and Naff"
   ]
  },
  {
   "cell_type": "code",
   "execution_count": null,
   "id": "edc9b689",
   "metadata": {},
   "outputs": [],
   "source": [
    "K = 8\n",
    "n_spins = 300\n",
    "var_e = 5\n",
    "n_tau = 10\n",
    "var1_idx = 0\n",
    "var2_idx = 4\n",
    "\n",
    "var_w = np.array([0.1,0.2,0.3,0.4])\n",
    "path_plots = \"/home/elosegui/MSc_thesis_project/numpy_results/paff_plots/\"\n",
    "plot_paff_analytical(n_tau,var_w, var_e, K, n_spins, var1_idx, var2_idx, var_w_critical)\n",
    "\n",
    "#plt.savefig(path_plots+\"Paff_K\" +str(K)+\"_var_e\"+str(var_e))"
   ]
  },
  {
   "cell_type": "code",
   "execution_count": null,
   "id": "422bb127",
   "metadata": {},
   "outputs": [],
   "source": [
    "n_tau = 10\n",
    "plot_paff_analytical_naff(n_tau, var_w_perturbed, var_e, K, n_spins, var1_idx, var2_idx, var_w_critical)\n",
    "\n",
    "plt.savefig(path_plots+\"Naff_K\" +str(K)+\"_iterations\"+str(it)+\"_N\"+str(n_spins)+\"_var_e\"+str(var_e))"
   ]
  }
 ],
 "metadata": {
  "kernelspec": {
   "display_name": "Python 3 (ipykernel)",
   "language": "python",
   "name": "python3"
  },
  "language_info": {
   "codemirror_mode": {
    "name": "ipython",
    "version": 3
   },
   "file_extension": ".py",
   "mimetype": "text/x-python",
   "name": "python",
   "nbconvert_exporter": "python",
   "pygments_lexer": "ipython3",
   "version": "3.8.8"
  }
 },
 "nbformat": 4,
 "nbformat_minor": 5
}
